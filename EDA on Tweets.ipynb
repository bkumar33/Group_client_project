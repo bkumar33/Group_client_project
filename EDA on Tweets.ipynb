{
 "cells": [
  {
   "cell_type": "markdown",
   "metadata": {},
   "source": [
    "# import needed libraries"
   ]
  },
  {
   "cell_type": "code",
   "execution_count": 1,
   "metadata": {},
   "outputs": [],
   "source": [
    "\n",
    "import os\n",
    "import requests\n",
    "import pandas\n",
    "import time\n",
    "import regex\n",
    "\n",
    "# Import Gensim.\n",
    "import gensim\n",
    "\n",
    "from nltk.corpus import stopwords\n",
    "from nltk.stem import WordNetLemmatizer\n",
    "from nltk import word_tokenize\n",
    "\n",
    "from sklearn.feature_extraction.text import CountVectorizer, TfidfVectorizer\n",
    "from sklearn.linear_model import LogisticRegression\n",
    "from sklearn.model_selection import train_test_split, GridSearchCV, cross_val_score, KFold\n",
    "from sklearn.naive_bayes import MultinomialNB\n",
    "from sklearn.ensemble import GradientBoostingClassifier, AdaBoostClassifier, VotingClassifier\n",
    "from sklearn.tree import DecisionTreeClassifier\n",
    "\n",
    "\n",
    "\n",
    "#turn off the really annoying deprecation messages\n",
    "import warnings\n",
    "warnings.filterwarnings('ignore')\n",
    "\n",
    "\n",
    "\n",
    "#VERY usefull to be able to single step code and check values in medias res\n",
    "from IPython.core.debugger import set_trace"
   ]
  },
  {
   "cell_type": "markdown",
   "metadata": {},
   "source": [
    "# Import twitter data to a pandas dataframe"
   ]
  },
  {
   "cell_type": "code",
   "execution_count": 2,
   "metadata": {},
   "outputs": [],
   "source": [
    "# set global path/filename components\n",
    "\n",
    "output_data_dir = './final_data_sets/'\n",
    "\n",
    "#load training data\n",
    "train_input_path = './data_collection_twitter/'\n",
    "train_input_data_filename = '2012_Sandy_Hurricane-ontopic_offtopic.csv'\n",
    "train_output_data_filename = 'cleaned_tweet_train_data.csv'\n",
    "\n",
    "#load test data\n",
    "test_input_path = './data_collection_twitter/'\n",
    "test_input_data_filename = 'tweets_results.csv'\n",
    "test_output_data_filename = 'cleaned_tweet_test_data.csv'"
   ]
  },
  {
   "cell_type": "code",
   "execution_count": 3,
   "metadata": {},
   "outputs": [
    {
     "data": {
      "text/html": [
       "<div>\n",
       "<style scoped>\n",
       "    .dataframe tbody tr th:only-of-type {\n",
       "        vertical-align: middle;\n",
       "    }\n",
       "\n",
       "    .dataframe tbody tr th {\n",
       "        vertical-align: top;\n",
       "    }\n",
       "\n",
       "    .dataframe thead th {\n",
       "        text-align: right;\n",
       "    }\n",
       "</style>\n",
       "<table border=\"1\" class=\"dataframe\">\n",
       "  <thead>\n",
       "    <tr style=\"text-align: right;\">\n",
       "      <th></th>\n",
       "      <th>tweet id</th>\n",
       "      <th>tweet</th>\n",
       "      <th>label</th>\n",
       "    </tr>\n",
       "  </thead>\n",
       "  <tbody>\n",
       "    <tr>\n",
       "      <th>0</th>\n",
       "      <td>'262596552399396864'</td>\n",
       "      <td>I've got enough candles to supply a Mexican fa...</td>\n",
       "      <td>off-topic</td>\n",
       "    </tr>\n",
       "    <tr>\n",
       "      <th>1</th>\n",
       "      <td>'263044104500420609'</td>\n",
       "      <td>Sandy be soooo mad that she be shattering our ...</td>\n",
       "      <td>on-topic</td>\n",
       "    </tr>\n",
       "    <tr>\n",
       "      <th>2</th>\n",
       "      <td>'263309629973491712'</td>\n",
       "      <td>@ibexgirl thankfully Hurricane Waugh played it...</td>\n",
       "      <td>off-topic</td>\n",
       "    </tr>\n",
       "    <tr>\n",
       "      <th>3</th>\n",
       "      <td>'263422851133079552'</td>\n",
       "      <td>@taos you never got that magnificent case of B...</td>\n",
       "      <td>off-topic</td>\n",
       "    </tr>\n",
       "    <tr>\n",
       "      <th>4</th>\n",
       "      <td>'262404311223504896'</td>\n",
       "      <td>I'm at Mad River Bar &amp;amp; Grille (New York, N...</td>\n",
       "      <td>off-topic</td>\n",
       "    </tr>\n",
       "  </tbody>\n",
       "</table>\n",
       "</div>"
      ],
      "text/plain": [
       "               tweet id                                              tweet  \\\n",
       "0  '262596552399396864'  I've got enough candles to supply a Mexican fa...   \n",
       "1  '263044104500420609'  Sandy be soooo mad that she be shattering our ...   \n",
       "2  '263309629973491712'  @ibexgirl thankfully Hurricane Waugh played it...   \n",
       "3  '263422851133079552'  @taos you never got that magnificent case of B...   \n",
       "4  '262404311223504896'  I'm at Mad River Bar &amp; Grille (New York, N...   \n",
       "\n",
       "       label  \n",
       "0  off-topic  \n",
       "1   on-topic  \n",
       "2  off-topic  \n",
       "3  off-topic  \n",
       "4  off-topic  "
      ]
     },
     "execution_count": 3,
     "metadata": {},
     "output_type": "execute_result"
    }
   ],
   "source": [
    "#load train data\n",
    "train_twitter_dataframe = pandas.DataFrame()\n",
    "\n",
    "train_twitter_dataframe = pandas.read_csv(train_input_path+train_input_data_filename)\n",
    "train_twitter_dataframe.head()"
   ]
  },
  {
   "cell_type": "code",
   "execution_count": 4,
   "metadata": {},
   "outputs": [
    {
     "data": {
      "text/plain": [
       "(10008, 3)"
      ]
     },
     "execution_count": 4,
     "metadata": {},
     "output_type": "execute_result"
    }
   ],
   "source": [
    "train_twitter_dataframe.shape"
   ]
  },
  {
   "cell_type": "code",
   "execution_count": 5,
   "metadata": {},
   "outputs": [
    {
     "name": "stdout",
     "output_type": "stream",
     "text": [
      "<class 'pandas.core.frame.DataFrame'>\n",
      "RangeIndex: 10008 entries, 0 to 10007\n",
      "Data columns (total 3 columns):\n",
      "tweet id    10008 non-null object\n",
      " tweet      10008 non-null object\n",
      " label      10008 non-null object\n",
      "dtypes: object(3)\n",
      "memory usage: 234.6+ KB\n"
     ]
    }
   ],
   "source": [
    "train_twitter_dataframe.info()"
   ]
  },
  {
   "cell_type": "markdown",
   "metadata": {},
   "source": [
    "# Process columns/rows\n",
    " - Keep the following columns\n",
    "    - ' tweet' \n",
    "    - ' label'\n",
    "    \n",
    " - Drop the following columns\n",
    " \t- 'tweet id'\n",
    " \t- 'Information Source'\n",
    " \t- 'Information Type'\n"
   ]
  },
  {
   "cell_type": "code",
   "execution_count": 6,
   "metadata": {},
   "outputs": [],
   "source": [
    "#drop the id\n",
    "train_twitter_dataframe.drop(columns=[ 'tweet id'],\n",
    "                        axis=1,\n",
    "                        inplace=True)"
   ]
  },
  {
   "cell_type": "code",
   "execution_count": 7,
   "metadata": {},
   "outputs": [],
   "source": [
    "#rename the columns\n",
    "train_twitter_dataframe.rename(columns={' tweet':'Tweet Text',\n",
    "                          ' label' :'Informativeness'}, \n",
    "                 inplace=True)"
   ]
  },
  {
   "cell_type": "code",
   "execution_count": 8,
   "metadata": {},
   "outputs": [
    {
     "name": "stdout",
     "output_type": "stream",
     "text": [
      "<class 'pandas.core.frame.DataFrame'>\n",
      "RangeIndex: 10008 entries, 0 to 10007\n",
      "Data columns (total 2 columns):\n",
      "Tweet Text         10008 non-null object\n",
      "Informativeness    10008 non-null object\n",
      "dtypes: object(2)\n",
      "memory usage: 156.5+ KB\n"
     ]
    }
   ],
   "source": [
    "train_twitter_dataframe.info()"
   ]
  },
  {
   "cell_type": "code",
   "execution_count": 9,
   "metadata": {},
   "outputs": [
    {
     "data": {
      "text/html": [
       "<div>\n",
       "<style scoped>\n",
       "    .dataframe tbody tr th:only-of-type {\n",
       "        vertical-align: middle;\n",
       "    }\n",
       "\n",
       "    .dataframe tbody tr th {\n",
       "        vertical-align: top;\n",
       "    }\n",
       "\n",
       "    .dataframe thead th {\n",
       "        text-align: right;\n",
       "    }\n",
       "</style>\n",
       "<table border=\"1\" class=\"dataframe\">\n",
       "  <thead>\n",
       "    <tr style=\"text-align: right;\">\n",
       "      <th></th>\n",
       "      <th>Tweet Text</th>\n",
       "      <th>Informativeness</th>\n",
       "    </tr>\n",
       "  </thead>\n",
       "  <tbody>\n",
       "    <tr>\n",
       "      <th>0</th>\n",
       "      <td>I've got enough candles to supply a Mexican fa...</td>\n",
       "      <td>off-topic</td>\n",
       "    </tr>\n",
       "    <tr>\n",
       "      <th>1</th>\n",
       "      <td>Sandy be soooo mad that she be shattering our ...</td>\n",
       "      <td>on-topic</td>\n",
       "    </tr>\n",
       "    <tr>\n",
       "      <th>2</th>\n",
       "      <td>@ibexgirl thankfully Hurricane Waugh played it...</td>\n",
       "      <td>off-topic</td>\n",
       "    </tr>\n",
       "    <tr>\n",
       "      <th>3</th>\n",
       "      <td>@taos you never got that magnificent case of B...</td>\n",
       "      <td>off-topic</td>\n",
       "    </tr>\n",
       "    <tr>\n",
       "      <th>4</th>\n",
       "      <td>I'm at Mad River Bar &amp;amp; Grille (New York, N...</td>\n",
       "      <td>off-topic</td>\n",
       "    </tr>\n",
       "  </tbody>\n",
       "</table>\n",
       "</div>"
      ],
      "text/plain": [
       "                                          Tweet Text Informativeness\n",
       "0  I've got enough candles to supply a Mexican fa...       off-topic\n",
       "1  Sandy be soooo mad that she be shattering our ...        on-topic\n",
       "2  @ibexgirl thankfully Hurricane Waugh played it...       off-topic\n",
       "3  @taos you never got that magnificent case of B...       off-topic\n",
       "4  I'm at Mad River Bar &amp; Grille (New York, N...       off-topic"
      ]
     },
     "execution_count": 9,
     "metadata": {},
     "output_type": "execute_result"
    }
   ],
   "source": [
    "train_twitter_dataframe.head()"
   ]
  },
  {
   "cell_type": "code",
   "execution_count": 10,
   "metadata": {},
   "outputs": [
    {
     "data": {
      "text/plain": [
       "Tweet Text         0\n",
       "Informativeness    0\n",
       "dtype: int64"
      ]
     },
     "execution_count": 10,
     "metadata": {},
     "output_type": "execute_result"
    }
   ],
   "source": [
    "train_twitter_dataframe.isna().sum()"
   ]
  },
  {
   "cell_type": "code",
   "execution_count": 11,
   "metadata": {},
   "outputs": [],
   "source": [
    "train_twitter_dataframe.to_csv(output_data_dir+train_output_data_filename)"
   ]
  },
  {
   "cell_type": "code",
   "execution_count": 12,
   "metadata": {},
   "outputs": [
    {
     "data": {
      "text/html": [
       "<div>\n",
       "<style scoped>\n",
       "    .dataframe tbody tr th:only-of-type {\n",
       "        vertical-align: middle;\n",
       "    }\n",
       "\n",
       "    .dataframe tbody tr th {\n",
       "        vertical-align: top;\n",
       "    }\n",
       "\n",
       "    .dataframe thead th {\n",
       "        text-align: right;\n",
       "    }\n",
       "</style>\n",
       "<table border=\"1\" class=\"dataframe\">\n",
       "  <thead>\n",
       "    <tr style=\"text-align: right;\">\n",
       "      <th></th>\n",
       "      <th>id</th>\n",
       "      <th>created_at</th>\n",
       "      <th>text</th>\n",
       "      <th>user</th>\n",
       "      <th>user_id</th>\n",
       "      <th>user_name</th>\n",
       "      <th>user_location</th>\n",
       "      <th>user_description</th>\n",
       "      <th>user_followers</th>\n",
       "      <th>retweet_count</th>\n",
       "      <th>favorite_count</th>\n",
       "      <th>lang</th>\n",
       "      <th>is_quote_status</th>\n",
       "      <th>place</th>\n",
       "      <th>place_name</th>\n",
       "      <th>place_country</th>\n",
       "      <th>coordinates</th>\n",
       "      <th>coordinates_longitude</th>\n",
       "      <th>coordinates_latitude</th>\n",
       "    </tr>\n",
       "  </thead>\n",
       "  <tbody>\n",
       "    <tr>\n",
       "      <th>0</th>\n",
       "      <td>260244087901413376</td>\n",
       "      <td>Mon Oct 22 05:00:00 +0000 2012</td>\n",
       "      <td>I suppose she has an appropriate costume for e...</td>\n",
       "      <td>{'profile_sidebar_fill_color': 'DDEEF6', 'is_t...</td>\n",
       "      <td>24753438</td>\n",
       "      <td>William C. Statham</td>\n",
       "      <td>New York, NY</td>\n",
       "      <td>🎭Social Media Influencer🎭 Facebook: william.co...</td>\n",
       "      <td>726</td>\n",
       "      <td>0</td>\n",
       "      <td>0</td>\n",
       "      <td>en</td>\n",
       "      <td>False</td>\n",
       "      <td>{'full_name': 'West Long Branch, NJ', 'country...</td>\n",
       "      <td>West Long Branch, NJ</td>\n",
       "      <td>US</td>\n",
       "      <td>[-74.037008, 40.272289]</td>\n",
       "      <td>-74.037008</td>\n",
       "      <td>40.272289</td>\n",
       "    </tr>\n",
       "    <tr>\n",
       "      <th>1</th>\n",
       "      <td>260244088161439744</td>\n",
       "      <td>Mon Oct 22 05:00:00 +0000 2012</td>\n",
       "      <td>@NOT_savinHOES Not r yu upp</td>\n",
       "      <td>{'profile_sidebar_fill_color': 'DDEEF6', 'is_t...</td>\n",
       "      <td>401231570</td>\n",
       "      <td>Jay 🤷🏽‍♂️</td>\n",
       "      <td>Washington, DC, USA</td>\n",
       "      <td>кιиg ʝαмєѕ🎩🏆 25. D[M]V | 👻:OfficialJaymes 📸Ins...</td>\n",
       "      <td>815</td>\n",
       "      <td>0</td>\n",
       "      <td>0</td>\n",
       "      <td>en</td>\n",
       "      <td>False</td>\n",
       "      <td>{'full_name': 'Bressler-Enhaut-Oberlin, PA', '...</td>\n",
       "      <td>Bressler-Enhaut-Oberlin, PA</td>\n",
       "      <td>US</td>\n",
       "      <td>[-76.831479, 40.22417]</td>\n",
       "      <td>-76.831479</td>\n",
       "      <td>40.22417</td>\n",
       "    </tr>\n",
       "    <tr>\n",
       "      <th>2</th>\n",
       "      <td>260244088819945472</td>\n",
       "      <td>Mon Oct 22 05:00:00 +0000 2012</td>\n",
       "      <td>Hit and Run is so sad..</td>\n",
       "      <td>{'profile_sidebar_fill_color': 'DDEEF6', 'is_t...</td>\n",
       "      <td>123368790</td>\n",
       "      <td>Cheree Mercedez💯♥️</td>\n",
       "      <td>Fayetteville, NC</td>\n",
       "      <td>NaN</td>\n",
       "      <td>696</td>\n",
       "      <td>0</td>\n",
       "      <td>0</td>\n",
       "      <td>en</td>\n",
       "      <td>False</td>\n",
       "      <td>{'full_name': 'South Carolina, USA', 'country_...</td>\n",
       "      <td>South Carolina, USA</td>\n",
       "      <td>US</td>\n",
       "      <td>[-83.353955, 32.04683]</td>\n",
       "      <td>-83.353955</td>\n",
       "      <td>32.04683</td>\n",
       "    </tr>\n",
       "    <tr>\n",
       "      <th>3</th>\n",
       "      <td>260244089080004609</td>\n",
       "      <td>Mon Oct 22 05:00:00 +0000 2012</td>\n",
       "      <td>Who's up?</td>\n",
       "      <td>{'profile_sidebar_fill_color': 'A0C5C7', 'is_t...</td>\n",
       "      <td>47812293</td>\n",
       "      <td>TheLitRoom</td>\n",
       "      <td>World Wide</td>\n",
       "      <td>Entertainment news (Music, Sports, Culture, ec...</td>\n",
       "      <td>1368</td>\n",
       "      <td>0</td>\n",
       "      <td>0</td>\n",
       "      <td>en</td>\n",
       "      <td>False</td>\n",
       "      <td>{'full_name': 'Malden, MA', 'country_code': 'U...</td>\n",
       "      <td>Malden, MA</td>\n",
       "      <td>US</td>\n",
       "      <td>[-71.089522, 42.412466]</td>\n",
       "      <td>-71.089522</td>\n",
       "      <td>42.412466</td>\n",
       "    </tr>\n",
       "    <tr>\n",
       "      <th>4</th>\n",
       "      <td>260244089985957888</td>\n",
       "      <td>Mon Oct 22 05:00:00 +0000 2012</td>\n",
       "      <td>@augustushazel idk I'm just ugly or annoying o...</td>\n",
       "      <td>{'profile_sidebar_fill_color': 'EFEFEF', 'is_t...</td>\n",
       "      <td>274750107</td>\n",
       "      <td>moon boi</td>\n",
       "      <td>Erie, PA</td>\n",
       "      <td>NaN</td>\n",
       "      <td>249</td>\n",
       "      <td>0</td>\n",
       "      <td>0</td>\n",
       "      <td>en</td>\n",
       "      <td>False</td>\n",
       "      <td>{'full_name': 'Erie, PA', 'country_code': 'US'...</td>\n",
       "      <td>Erie, PA</td>\n",
       "      <td>US</td>\n",
       "      <td>[-80.239991, 42.018414]</td>\n",
       "      <td>-80.239991</td>\n",
       "      <td>42.018414</td>\n",
       "    </tr>\n",
       "  </tbody>\n",
       "</table>\n",
       "</div>"
      ],
      "text/plain": [
       "                   id                      created_at  \\\n",
       "0  260244087901413376  Mon Oct 22 05:00:00 +0000 2012   \n",
       "1  260244088161439744  Mon Oct 22 05:00:00 +0000 2012   \n",
       "2  260244088819945472  Mon Oct 22 05:00:00 +0000 2012   \n",
       "3  260244089080004609  Mon Oct 22 05:00:00 +0000 2012   \n",
       "4  260244089985957888  Mon Oct 22 05:00:00 +0000 2012   \n",
       "\n",
       "                                                text  \\\n",
       "0  I suppose she has an appropriate costume for e...   \n",
       "1                        @NOT_savinHOES Not r yu upp   \n",
       "2                            Hit and Run is so sad..   \n",
       "3                                          Who's up?   \n",
       "4  @augustushazel idk I'm just ugly or annoying o...   \n",
       "\n",
       "                                                user    user_id  \\\n",
       "0  {'profile_sidebar_fill_color': 'DDEEF6', 'is_t...   24753438   \n",
       "1  {'profile_sidebar_fill_color': 'DDEEF6', 'is_t...  401231570   \n",
       "2  {'profile_sidebar_fill_color': 'DDEEF6', 'is_t...  123368790   \n",
       "3  {'profile_sidebar_fill_color': 'A0C5C7', 'is_t...   47812293   \n",
       "4  {'profile_sidebar_fill_color': 'EFEFEF', 'is_t...  274750107   \n",
       "\n",
       "            user_name        user_location  \\\n",
       "0  William C. Statham         New York, NY   \n",
       "1           Jay 🤷🏽‍♂️  Washington, DC, USA   \n",
       "2  Cheree Mercedez💯♥️     Fayetteville, NC   \n",
       "3          TheLitRoom           World Wide   \n",
       "4            moon boi             Erie, PA   \n",
       "\n",
       "                                    user_description  user_followers  \\\n",
       "0  🎭Social Media Influencer🎭 Facebook: william.co...             726   \n",
       "1  кιиg ʝαмєѕ🎩🏆 25. D[M]V | 👻:OfficialJaymes 📸Ins...             815   \n",
       "2                                                NaN             696   \n",
       "3  Entertainment news (Music, Sports, Culture, ec...            1368   \n",
       "4                                                NaN             249   \n",
       "\n",
       "   retweet_count  favorite_count lang  is_quote_status  \\\n",
       "0              0               0   en            False   \n",
       "1              0               0   en            False   \n",
       "2              0               0   en            False   \n",
       "3              0               0   en            False   \n",
       "4              0               0   en            False   \n",
       "\n",
       "                                               place  \\\n",
       "0  {'full_name': 'West Long Branch, NJ', 'country...   \n",
       "1  {'full_name': 'Bressler-Enhaut-Oberlin, PA', '...   \n",
       "2  {'full_name': 'South Carolina, USA', 'country_...   \n",
       "3  {'full_name': 'Malden, MA', 'country_code': 'U...   \n",
       "4  {'full_name': 'Erie, PA', 'country_code': 'US'...   \n",
       "\n",
       "                    place_name place_country              coordinates  \\\n",
       "0         West Long Branch, NJ            US  [-74.037008, 40.272289]   \n",
       "1  Bressler-Enhaut-Oberlin, PA            US   [-76.831479, 40.22417]   \n",
       "2          South Carolina, USA            US   [-83.353955, 32.04683]   \n",
       "3                   Malden, MA            US  [-71.089522, 42.412466]   \n",
       "4                     Erie, PA            US  [-80.239991, 42.018414]   \n",
       "\n",
       "  coordinates_longitude coordinates_latitude  \n",
       "0            -74.037008            40.272289  \n",
       "1            -76.831479             40.22417  \n",
       "2            -83.353955             32.04683  \n",
       "3            -71.089522            42.412466  \n",
       "4            -80.239991            42.018414  "
      ]
     },
     "execution_count": 12,
     "metadata": {},
     "output_type": "execute_result"
    }
   ],
   "source": [
    "#Load test data\n",
    "test_twitter_dataframe = pandas.DataFrame()\n",
    "\n",
    "#test_twitter_dataframe = pandas.read_csv(data_dir+\"tweets_results.csv\")\n",
    "test_twitter_dataframe = pandas.read_csv(test_input_path+test_input_data_filename)\n",
    "test_twitter_dataframe.head()"
   ]
  },
  {
   "cell_type": "code",
   "execution_count": 13,
   "metadata": {},
   "outputs": [
    {
     "data": {
      "text/plain": [
       "(102255, 19)"
      ]
     },
     "execution_count": 13,
     "metadata": {},
     "output_type": "execute_result"
    }
   ],
   "source": [
    "test_twitter_dataframe.shape"
   ]
  },
  {
   "cell_type": "markdown",
   "metadata": {},
   "source": [
    "# Process columns/rows\n",
    " - Keep the following columns\n",
    "    - 'created_at', \n",
    "    - 'text'\n",
    "    - 'retweet_count'\n",
    "    - 'place_name'\n",
    "    - 'coordinates_longitude'\n",
    "    - 'coordinates_latitude'\n",
    "    \n",
    " - Drop the following columns\n",
    " \t- id\n",
    " \t- user\n",
    " \t- user_id\n",
    " \t- user_name\n",
    " \t- user_description\n",
    " \t- user_followers\n",
    " \t- user_location\n",
    " \t- favorite_count\n",
    " \t- lang\n",
    " \t- is_quote_status\t\n",
    " \t- place\n",
    " \t- place_country\n",
    " \t- coordinates"
   ]
  },
  {
   "cell_type": "code",
   "execution_count": 14,
   "metadata": {},
   "outputs": [
    {
     "data": {
      "text/html": [
       "<div>\n",
       "<style scoped>\n",
       "    .dataframe tbody tr th:only-of-type {\n",
       "        vertical-align: middle;\n",
       "    }\n",
       "\n",
       "    .dataframe tbody tr th {\n",
       "        vertical-align: top;\n",
       "    }\n",
       "\n",
       "    .dataframe thead th {\n",
       "        text-align: right;\n",
       "    }\n",
       "</style>\n",
       "<table border=\"1\" class=\"dataframe\">\n",
       "  <thead>\n",
       "    <tr style=\"text-align: right;\">\n",
       "      <th></th>\n",
       "      <th>created_at</th>\n",
       "      <th>text</th>\n",
       "      <th>retweet_count</th>\n",
       "      <th>lang</th>\n",
       "      <th>place_name</th>\n",
       "      <th>coordinates_longitude</th>\n",
       "      <th>coordinates_latitude</th>\n",
       "    </tr>\n",
       "  </thead>\n",
       "  <tbody>\n",
       "    <tr>\n",
       "      <th>0</th>\n",
       "      <td>Mon Oct 22 05:00:00 +0000 2012</td>\n",
       "      <td>I suppose she has an appropriate costume for e...</td>\n",
       "      <td>0</td>\n",
       "      <td>en</td>\n",
       "      <td>West Long Branch, NJ</td>\n",
       "      <td>-74.037008</td>\n",
       "      <td>40.272289</td>\n",
       "    </tr>\n",
       "    <tr>\n",
       "      <th>1</th>\n",
       "      <td>Mon Oct 22 05:00:00 +0000 2012</td>\n",
       "      <td>@NOT_savinHOES Not r yu upp</td>\n",
       "      <td>0</td>\n",
       "      <td>en</td>\n",
       "      <td>Bressler-Enhaut-Oberlin, PA</td>\n",
       "      <td>-76.831479</td>\n",
       "      <td>40.22417</td>\n",
       "    </tr>\n",
       "    <tr>\n",
       "      <th>2</th>\n",
       "      <td>Mon Oct 22 05:00:00 +0000 2012</td>\n",
       "      <td>Hit and Run is so sad..</td>\n",
       "      <td>0</td>\n",
       "      <td>en</td>\n",
       "      <td>South Carolina, USA</td>\n",
       "      <td>-83.353955</td>\n",
       "      <td>32.04683</td>\n",
       "    </tr>\n",
       "    <tr>\n",
       "      <th>3</th>\n",
       "      <td>Mon Oct 22 05:00:00 +0000 2012</td>\n",
       "      <td>Who's up?</td>\n",
       "      <td>0</td>\n",
       "      <td>en</td>\n",
       "      <td>Malden, MA</td>\n",
       "      <td>-71.089522</td>\n",
       "      <td>42.412466</td>\n",
       "    </tr>\n",
       "    <tr>\n",
       "      <th>4</th>\n",
       "      <td>Mon Oct 22 05:00:00 +0000 2012</td>\n",
       "      <td>@augustushazel idk I'm just ugly or annoying o...</td>\n",
       "      <td>0</td>\n",
       "      <td>en</td>\n",
       "      <td>Erie, PA</td>\n",
       "      <td>-80.239991</td>\n",
       "      <td>42.018414</td>\n",
       "    </tr>\n",
       "  </tbody>\n",
       "</table>\n",
       "</div>"
      ],
      "text/plain": [
       "                       created_at  \\\n",
       "0  Mon Oct 22 05:00:00 +0000 2012   \n",
       "1  Mon Oct 22 05:00:00 +0000 2012   \n",
       "2  Mon Oct 22 05:00:00 +0000 2012   \n",
       "3  Mon Oct 22 05:00:00 +0000 2012   \n",
       "4  Mon Oct 22 05:00:00 +0000 2012   \n",
       "\n",
       "                                                text  retweet_count lang  \\\n",
       "0  I suppose she has an appropriate costume for e...              0   en   \n",
       "1                        @NOT_savinHOES Not r yu upp              0   en   \n",
       "2                            Hit and Run is so sad..              0   en   \n",
       "3                                          Who's up?              0   en   \n",
       "4  @augustushazel idk I'm just ugly or annoying o...              0   en   \n",
       "\n",
       "                    place_name coordinates_longitude coordinates_latitude  \n",
       "0         West Long Branch, NJ            -74.037008            40.272289  \n",
       "1  Bressler-Enhaut-Oberlin, PA            -76.831479             40.22417  \n",
       "2          South Carolina, USA            -83.353955             32.04683  \n",
       "3                   Malden, MA            -71.089522            42.412466  \n",
       "4                     Erie, PA            -80.239991            42.018414  "
      ]
     },
     "execution_count": 14,
     "metadata": {},
     "output_type": "execute_result"
    }
   ],
   "source": [
    "test_twitter_dataframe.drop(columns=[ 'id',\n",
    "                                'user',\n",
    "                                'user_id',\n",
    "                                'user_name',\n",
    "                                'user_description',\n",
    "                                'user_followers',\n",
    "                                'user_location',    \n",
    "                                'favorite_count',\n",
    "                                'is_quote_status',\n",
    "                                'place',\n",
    "                                'place_country',\n",
    "                                'coordinates'\n",
    "                               ],\n",
    "                        inplace=True)\n",
    "test_twitter_dataframe.head()"
   ]
  },
  {
   "cell_type": "code",
   "execution_count": 15,
   "metadata": {},
   "outputs": [
    {
     "name": "stdout",
     "output_type": "stream",
     "text": [
      "<class 'pandas.core.frame.DataFrame'>\n",
      "RangeIndex: 102255 entries, 0 to 102254\n",
      "Data columns (total 7 columns):\n",
      "created_at               102255 non-null object\n",
      "text                     102254 non-null object\n",
      "retweet_count            102255 non-null int64\n",
      "lang                     102255 non-null object\n",
      "place_name               102255 non-null object\n",
      "coordinates_longitude    102255 non-null object\n",
      "coordinates_latitude     102255 non-null object\n",
      "dtypes: int64(1), object(6)\n",
      "memory usage: 5.5+ MB\n"
     ]
    }
   ],
   "source": [
    "test_twitter_dataframe.info()"
   ]
  },
  {
   "cell_type": "code",
   "execution_count": 16,
   "metadata": {},
   "outputs": [
    {
     "data": {
      "text/plain": [
       "created_at               0\n",
       "text                     1\n",
       "retweet_count            0\n",
       "lang                     0\n",
       "place_name               0\n",
       "coordinates_longitude    0\n",
       "coordinates_latitude     0\n",
       "dtype: int64"
      ]
     },
     "execution_count": 16,
     "metadata": {},
     "output_type": "execute_result"
    }
   ],
   "source": [
    "test_twitter_dataframe.isna().sum()"
   ]
  },
  {
   "cell_type": "code",
   "execution_count": 17,
   "metadata": {},
   "outputs": [],
   "source": [
    "test_twitter_dataframe = test_twitter_dataframe.dropna()"
   ]
  },
  {
   "cell_type": "code",
   "execution_count": 18,
   "metadata": {},
   "outputs": [
    {
     "data": {
      "text/plain": [
       "created_at               0\n",
       "text                     0\n",
       "retweet_count            0\n",
       "lang                     0\n",
       "place_name               0\n",
       "coordinates_longitude    0\n",
       "coordinates_latitude     0\n",
       "dtype: int64"
      ]
     },
     "execution_count": 18,
     "metadata": {},
     "output_type": "execute_result"
    }
   ],
   "source": [
    "test_twitter_dataframe.isna().sum()"
   ]
  },
  {
   "cell_type": "code",
   "execution_count": 19,
   "metadata": {},
   "outputs": [
    {
     "data": {
      "text/plain": [
       "(102254, 7)"
      ]
     },
     "execution_count": 19,
     "metadata": {},
     "output_type": "execute_result"
    }
   ],
   "source": [
    "test_twitter_dataframe.shape"
   ]
  },
  {
   "cell_type": "code",
   "execution_count": 20,
   "metadata": {},
   "outputs": [],
   "source": [
    "test_twitter_dataframe.to_csv(output_data_dir+test_output_data_filename)"
   ]
  },
  {
   "cell_type": "markdown",
   "metadata": {},
   "source": [
    "# import word2vec data"
   ]
  },
  {
   "cell_type": "code",
   "execution_count": 24,
   "metadata": {},
   "outputs": [],
   "source": [
    "# ### Start timer.\n",
    "# t0 = time.time()\n",
    "\n",
    "# ### Import word vectors into \"model.\"\n",
    "# model = gensim.models.KeyedVectors.load_word2vec_format('./WordVec_dictionary/lexvec.commoncrawl.ngramsubwords.300d.W.pos.vectors')\n",
    "\n",
    "# ### Print results of timer.\n",
    "# print(time.time() - t0)"
   ]
  },
  {
   "cell_type": "markdown",
   "metadata": {},
   "source": [
    "# identify words to check out"
   ]
  },
  {
   "cell_type": "code",
   "execution_count": 25,
   "metadata": {},
   "outputs": [],
   "source": [
    "# disaster_words = model.most_similar([\"hurricane\", \"tornado\", \"flood\", \"earthquake\"], topn=30)"
   ]
  },
  {
   "cell_type": "code",
   "execution_count": null,
   "metadata": {},
   "outputs": [],
   "source": []
  }
 ],
 "metadata": {
  "kernelspec": {
   "display_name": "Python 3",
   "language": "python",
   "name": "python3"
  },
  "language_info": {
   "codemirror_mode": {
    "name": "ipython",
    "version": 3
   },
   "file_extension": ".py",
   "mimetype": "text/x-python",
   "name": "python",
   "nbconvert_exporter": "python",
   "pygments_lexer": "ipython3",
   "version": "3.7.3"
  }
 },
 "nbformat": 4,
 "nbformat_minor": 2
}
