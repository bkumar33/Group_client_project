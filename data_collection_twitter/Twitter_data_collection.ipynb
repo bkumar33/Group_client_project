{
 "cells": [
  {
   "cell_type": "markdown",
   "metadata": {},
   "source": [
    "## Twitter Data Gathering "
   ]
  },
  {
   "cell_type": "markdown",
   "metadata": {},
   "source": [
    "The goal of this step to collect enough posts for analysis from Twitter."
   ]
  },
  {
   "cell_type": "markdown",
   "metadata": {},
   "source": [
    "### Links:\n",
    "\n",
    "https://developer.twitter.com/en/docs <br>\n",
    "http://docs.tweepy.org/en/v3.5.0/api.html <br>\n"
   ]
  },
  {
   "cell_type": "markdown",
   "metadata": {},
   "source": [
    "### Import Libraries"
   ]
  },
  {
   "cell_type": "code",
   "execution_count": null,
   "metadata": {},
   "outputs": [],
   "source": [
    "import time\n",
    "import json\n",
    "import tweepy\n",
    "from tweepy import OAuthHandler\n",
    "from tweepy import API\n",
    "\n",
    "import datetime as dt\n",
    "import pandas as pd\n",
    "import os\n",
    "import csv\n",
    "\n",
    "pd.set_option('display.max_colwidth', -1)"
   ]
  },
  {
   "cell_type": "markdown",
   "metadata": {},
   "source": [
    "### User credentials"
   ]
  },
  {
   "cell_type": "code",
   "execution_count": null,
   "metadata": {},
   "outputs": [],
   "source": [
    "# Variables that contains the user credentials to access Twitter API \n",
    "ACCESS_TOKEN = '***'\n",
    "ACCESS_SECRET = '***'\n",
    "CONSUMER_KEY = '***'\n",
    "CONSUMER_SECRET = '***'"
   ]
  },
  {
   "cell_type": "markdown",
   "metadata": {},
   "source": [
    "### Authentication"
   ]
  },
  {
   "cell_type": "code",
   "execution_count": null,
   "metadata": {},
   "outputs": [],
   "source": [
    "# Setup tweepy to authenticate with Twitter credentials:\n",
    "auth = tweepy.OAuthHandler(CONSUMER_KEY, CONSUMER_SECRET)\n",
    "auth.set_access_token(ACCESS_TOKEN, ACCESS_SECRET)\n",
    "\n",
    "# Create the api to connect to twitter with your creadentials\n",
    "api = tweepy.API(auth, wait_on_rate_limit=True, wait_on_rate_limit_notify=True)"
   ]
  },
  {
   "cell_type": "markdown",
   "metadata": {},
   "source": [
    "### Data dictionary"
   ]
  },
  {
   "cell_type": "markdown",
   "metadata": {},
   "source": [
    "Tweet Data Dictionary is here:\n",
    "https://developer.twitter.com/en/docs/tweets/data-dictionary/overview/tweet-object"
   ]
  },
  {
   "cell_type": "markdown",
   "metadata": {},
   "source": [
    "|Field|Type|Description|\n",
    "|---|---|---|\n",
    "|id|Integer|The integer representation of the unique identifier for this Tweet. This number is greater than 53 bits and some programming languages may have difficulty/silent defects in interpreting it. Using a signed 64 bit integer for storing this identifier is safe|\n",
    "|created_at|String|UTC time when this Tweet was created|\n",
    "|user|Dictionary|Twitter account metadata and describes the author of the Tweet (all possible data)|\n",
    "|user_id|Integer|User's id|\n",
    "|user_name|String|User's name|\n",
    "|user_location|String|User's location from profile|\n",
    "|user_description|String|User's description from profile|\n",
    "|user_followers|Integer|Number of user's followers|\n",
    "|retweet_count|Integer|Indicates approximately how many times this Tweet has been liked by Twitter users.|\n",
    "|favorite_count|Integer|Number of times this Tweet has been retweeted|\n",
    "|lang|String| When present, indicates a BCP 47 language identifier corresponding to the machine-detected language of the Tweet text, or und if no language could be detected|\n",
    "|is_quote_status|Boolean|Indicates whether this is a Quoted Tweet|\n",
    "|place|Dictionary|Geotag data from tweet. When posting Tweets, users have the option to geotag their Tweet with an exact location or a Twitter Place|\n",
    "|place_name|String|Short human-readable representation of the place’s name|\n",
    "|place_country|String|Shortened country code representing the country containing this place|\n",
    "|coordinates|List|The longitude and latitude of the Tweet’s location, as a collection in the form [longitude, latitude]|\n",
    "|coordinates_longitude|Float|The longitude of the Tweet’s location|\n",
    "|coordinates_latitude|Float|The latitude of the Tweet’s location|\n"
   ]
  },
  {
   "cell_type": "markdown",
   "metadata": {},
   "source": [
    "### Collecting data"
   ]
  },
  {
   "cell_type": "markdown",
   "metadata": {},
   "source": [
    "Defined a function for parsing data. The function accepts id of tweet as an argument, creates request to Twitter's API and returns all information about the tweet as a dictionary:"
   ]
  },
  {
   "cell_type": "code",
   "execution_count": null,
   "metadata": {},
   "outputs": [],
   "source": [
    "def tweet_collection(tweet_id):\n",
    "    json = api.get_status(tweet_id)._json\n",
    "    tweet = {}\n",
    "    tweet['id'] = json['id']\n",
    "    tweet['created_at'] = json['created_at']\n",
    "    tweet['text'] = json['text']\n",
    "    #information about user\n",
    "    tweet['user'] = json['user']\n",
    "    tweet['user_id'] = json['user']['id']\n",
    "    tweet['user_name'] = json['user']['name']\n",
    "    tweet['user_location'] = json['user']['location']\n",
    "    tweet['user_description'] = json['user']['description']\n",
    "    tweet['user_followers'] = json['user']['followers_count']\n",
    "    #tweet info\n",
    "    tweet['retweet_count'] = json['retweet_count']\n",
    "    tweet['favorite_count'] = json['favorite_count']\n",
    "    tweet['lang'] = json['lang']\n",
    "    tweet['is_quote_status'] = json['is_quote_status']\n",
    "    #about location if user uses geotags \n",
    "    if json['place']!=None:\n",
    "        tweet['place'] = json['place']\n",
    "        tweet['place_name'] = json['place']['full_name']\n",
    "        tweet['place_country'] = json['place']['country_code']\n",
    "        tweet['coordinates'] = json['place']['bounding_box']['coordinates'][0][0]\n",
    "        tweet['coordinates_longitude'] = json['place']['bounding_box']['coordinates'][0][0][0]\n",
    "        tweet['coordinates_latitude'] = json['place']['bounding_box']['coordinates'][0][0][1]\n",
    "    else:\n",
    "        tweet['place']= None\n",
    "        tweet['place_name'] = None \n",
    "        tweet['place_country'] = None \n",
    "        tweet['coordinates'] = None \n",
    "        tweet['coordinates_longitude'] = None \n",
    "        tweet['coordinates_latitude'] = None \n",
    "    return tweet"
   ]
  },
  {
   "cell_type": "markdown",
   "metadata": {},
   "source": [
    "Defined the second function for parsing data for client. The function accepts geo location as an argument, creates request to Twitter's API and returns all information about the tweet as a dictionary:"
   ]
  },
  {
   "cell_type": "markdown",
   "metadata": {},
   "source": [
    "Collectiing tweets from list:"
   ]
  },
  {
   "cell_type": "code",
   "execution_count": null,
   "metadata": {},
   "outputs": [],
   "source": [
    "output = open('tweets_results.csv','a+') #create and open final file with results \n",
    "header = \",\".join(list(tweet_collection(open('tweet_ids.txt').readline()).keys())) #create a header\n",
    "output.write(header + '\\n') #add header there\n",
    "with open('tweet_ids.txt','r') as file: #loop through list of ids\n",
    "    for tweet in file:\n",
    "        try: \n",
    "            tweet_dict = tweet_collection(tweet) #get data for selected tweet\n",
    "            line = \",\".join([\"\\\"\" + \"\".join(str(e).splitlines()).replace(\"\\\"\", \"\") + \"\\\"\" for e in tweet_dict.values()])\n",
    "            output.write(line + '\\n') #write it down     \n",
    "        except Exception as e:\n",
    "            f = open('errors.txt','a+') #save errors to errors.txt\n",
    "            f.write(str(time.ctime()) +':' + str(e) + tweet)\n",
    "            f.close()\n",
    "    time.sleep(1) #add 1 sec to delay request in order to follow API rules (up to 900 requests per 15 minutes)           \n",
    "output.close()"
   ]
  },
  {
   "cell_type": "markdown",
   "metadata": {},
   "source": [
    "### Collecting data - for client"
   ]
  },
  {
   "cell_type": "markdown",
   "metadata": {},
   "source": [
    "Defined the second function for parsing data for client. The function accepts geo location as an argument, creates request to Twitter's API and returns all information about the tweet as a dictionary:"
   ]
  },
  {
   "cell_type": "code",
   "execution_count": null,
   "metadata": {},
   "outputs": [],
   "source": [
    "def geo_tweets_collection(disaster_list):\n",
    "    result = []\n",
    "    for word in disaster_list:\n",
    "        for tweet in tweepy.Cursor(api.search, q=word,lang='en').items(100): \n",
    "            json = tweet._json\n",
    "            if json['place']!=None:\n",
    "                tweet = {}\n",
    "                tweet['id'] = json['id']\n",
    "                tweet['created_at'] = json['created_at']\n",
    "                tweet['text'] = json['text']\n",
    "                #information about user\n",
    "                tweet['user'] = json['user']\n",
    "                tweet['user_id'] = json['user']['id']\n",
    "                tweet['user_name'] = json['user']['name']\n",
    "                tweet['user_location'] = json['user']['location']\n",
    "                tweet['user_description'] = json['user']['description']\n",
    "                tweet['user_followers'] = json['user']['followers_count']\n",
    "                #tweet info\n",
    "                tweet['retweet_count'] = json['retweet_count']\n",
    "                tweet['favorite_count'] = json['favorite_count']\n",
    "                tweet['lang'] = json['lang']\n",
    "                tweet['is_quote_status'] = json['is_quote_status']\n",
    "                #about location if user uses geotags \n",
    "                tweet['place'] = json['place']\n",
    "                tweet['place_name'] = json['place']['full_name']\n",
    "                tweet['place_country'] = json['place']['country_code']\n",
    "                tweet['coordinates'] = json['place']['bounding_box']['coordinates'][0][0]\n",
    "                tweet['coordinates_longitude'] = json['place']['bounding_box']['coordinates'][0][0][0]\n",
    "                tweet['coordinates_latitude'] = json['place']['bounding_box']['coordinates'][0][0][1]\n",
    "                result.append(tweet)\n",
    "            else:\n",
    "                continue\n",
    "            time.sleep(3) \n",
    "    return result"
   ]
  },
  {
   "cell_type": "markdown",
   "metadata": {},
   "source": [
    "### Automation"
   ]
  },
  {
   "cell_type": "markdown",
   "metadata": {},
   "source": [
    "In order to collect more data I automated collection. I put scrip 'twitter_collect.py' to AWS E2 instance and run it.\n"
   ]
  },
  {
   "cell_type": "markdown",
   "metadata": {},
   "source": [
    "### Executive Summary of Data Collection "
   ]
  },
  {
   "cell_type": "markdown",
   "metadata": {},
   "source": [
    "- Testing data was gathered from Twitter's API, using the Python 'tweepy' library. Twitter's API returns a JSON file for each post. Lists of posts were taken from http://crisislex.org/:  a website that provides repositories of crises-related social media data.\n",
    "\n",
    "- We Defined a function for parsing data. The function accepts tweet IDs as arguments, then it sends a request to Twitter's API and saves all the information from tweet to a dictionary.\n",
    "\n",
    "- From that a script was created that loops through list of ids and return csv.\n",
    "\n",
    "- We automated collection using an AWS E2 instance.\n",
    "\n",
    "- Created Data Dictionary of collected data.\n",
    "\n"
   ]
  },
  {
   "cell_type": "code",
   "execution_count": null,
   "metadata": {},
   "outputs": [],
   "source": []
  }
 ],
 "metadata": {
  "kernelspec": {
   "display_name": "Python 3",
   "language": "python",
   "name": "python3"
  },
  "language_info": {
   "codemirror_mode": {
    "name": "ipython",
    "version": 3
   },
   "file_extension": ".py",
   "mimetype": "text/x-python",
   "name": "python",
   "nbconvert_exporter": "python",
   "pygments_lexer": "ipython3",
   "version": "3.7.3"
  }
 },
 "nbformat": 4,
 "nbformat_minor": 2
}
